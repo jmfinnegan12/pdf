{
 "cells": [
  {
   "cell_type": "markdown",
   "metadata": {},
   "source": [
    "# PDF Table Reader\n",
    "## Converts PDF table to CSV or Excel\n",
    "\n",
    "using camelot package  \n",
    "camelot package 0.8.0 was not compatible with new pdfminer, downgraded to 20200517 on conda\n",
    "\n",
    "camelot imports successfully but PDF will not read due to \"unsupported PNG filter 3\" error  \n",
    "need to downsize pdf and convert from image to text using nitro\n",
    "* possible future project to integrate downsizing and OCR into this notebook"
   ]
  },
  {
   "cell_type": "code",
   "execution_count": 21,
   "metadata": {},
   "outputs": [],
   "source": [
    "# import packages\n",
    "import camelot\n",
    "import tkinter as tk\n",
    "from tkinter import filedialog\n",
    "import matplotlib.pyplot as plt\n",
    "%matplotlib inline\n",
    "import pandas as pd\n",
    "import os"
   ]
  },
  {
   "cell_type": "code",
   "execution_count": 3,
   "metadata": {},
   "outputs": [],
   "source": [
    "# select file location\n",
    "root = tk.Tk()\n",
    "root.withdraw() # suppress root\n",
    "root.wm_attributes('-topmost', 1) # bring window to the front\n",
    "file_path = filedialog.askopenfilename()\n",
    "\n",
    "# file_name = os.path.basename(file_path)\n",
    "# folder_path = file_path.replace(file_name, '')"
   ]
  },
  {
   "cell_type": "markdown",
   "metadata": {},
   "source": [
    "## Choose page numbers, then read and save PDF\n",
    "#### User input for page numbers\n",
    "Default is the full file  \n",
    "user can input:   \n",
    "* ranges separated by '-'\n",
    "    * use 'end' for a range to go to the end of the file\n",
    "* individual pages separated by ','\n",
    "* or a combination  \n",
    "  \n",
    "characters other than numbers will throw and error\n",
    "\n",
    "#### read_pdf function to read\n",
    "#### user can select folder and save tables as an Excel file (one sheet or multiple) for further use"
   ]
  },
  {
   "cell_type": "code",
   "execution_count": 4,
   "metadata": {},
   "outputs": [
    {
     "name": "stdout",
     "output_type": "stream",
     "text": [
      "Specify page numbers or press enter for full file: 1\n",
      "page(s):  1\n"
     ]
    }
   ],
   "source": [
    "# specify pages\n",
    "def get_pgs():\n",
    "    \"\"\"user input for page numbers to search for tables\n",
    "    \n",
    "    default is the full file\n",
    "    \n",
    "    user can input: \n",
    "        ranges separated by '-'\n",
    "        individual pages separated by ','\n",
    "        or a combination\n",
    "        use 'end' for a range to go to the end of the file\n",
    "    \n",
    "    characters other than numbers will throw error\n",
    "    \n",
    "    Return: string of page ranges to print\n",
    "    \"\"\"\n",
    "    p_str = input('Specify page numbers or press enter for full file: ')\n",
    "    \n",
    "    if p_str == '':\n",
    "        print('full file')\n",
    "        p_str = '1-end'\n",
    "    else:\n",
    "        print('page(s): ', p_str)\n",
    "    \n",
    "    return(p_str)\n",
    "\n",
    "p_str = get_pgs()"
   ]
  },
  {
   "cell_type": "code",
   "execution_count": 12,
   "metadata": {},
   "outputs": [],
   "source": [
    "# read tables\n",
    "\n",
    "# special parameters:\n",
    "\n",
    "# table_regions - to specify area of pdf\n",
    "#   otherwise the whole plan is converted to a table\n",
    "#   plot full page, find coordinates from plot: \n",
    "#    top left and bottom right, ['x0,y0,x1,y1']\n",
    "\n",
    "# strip_text - remove unwanted characters\n",
    "#   =' .\\n' to remove new line\n",
    "#   =' ' to remove space\n",
    "#   others possible\n",
    "\n",
    "# copy_text - to fill all merged cells\n",
    "#   =['v'] for vertical\n",
    "#   =['h'] for horizontal (or both)\n",
    "\n",
    "# line_scale - change sensitivity of lines detected\n",
    "#   =15 is default\n",
    "#   lower will detect less lines\n",
    "#   higher will detect more, >150 will confuse text as lines\n",
    "#   **faster to leave as default and make adjustments in dataframe after\n",
    "\n",
    "tables = camelot.read_pdf(file_path, pages=p_str, flavor='lattice', table_regions=['270,1620,1430,300'], \n",
    "                          strip_text=[' \\n'], copy_text=['v'])"
   ]
  },
  {
   "cell_type": "code",
   "execution_count": 13,
   "metadata": {},
   "outputs": [
    {
     "name": "stdout",
     "output_type": "stream",
     "text": [
      "number of tables found:  1\n",
      "\n",
      "\n",
      "First table parsing report: \n",
      "{'accuracy': 99.79, 'whitespace': 27.66, 'order': 1, 'page': 1}\n"
     ]
    }
   ],
   "source": [
    "# reults of read\n",
    "print('number of tables found: ', len(tables))\n",
    "print('\\n\\nFirst table parsing report: ')\n",
    "print(tables[0].parsing_report)"
   ]
  },
  {
   "cell_type": "code",
   "execution_count": 14,
   "metadata": {},
   "outputs": [
    {
     "data": {
      "image/png": "[encoded data removed]",
      "text/plain": [
       "<Figure size 432x288 with 1 Axes>"
      ]
     },
     "metadata": {
      "needs_background": "light"
     },
     "output_type": "display_data"
    }
   ],
   "source": [
    "camelot.plot(tables[0], kind='grid')\n",
    "plt.show()"
   ]
  },
  {
   "cell_type": "code",
   "execution_count": 34,
   "metadata": {
    "scrolled": true
   },
   "outputs": [
    {
     "data": {
      "text/html": [
       "<div>\n",
       "<style scoped>\n",
       "    .dataframe tbody tr th:only-of-type {\n",
       "        vertical-align: middle;\n",
       "    }\n",
       "\n",
       "    .dataframe tbody tr th {\n",
       "        vertical-align: top;\n",
       "    }\n",
       "\n",
       "    .dataframe thead th {\n",
       "        text-align: right;\n",
       "    }\n",
       "</style>\n",
       "<table border=\"1\" class=\"dataframe\">\n",
       "  <thead>\n",
       "    <tr style=\"text-align: right;\">\n",
       "      <th></th>\n",
       "      <th>0</th>\n",
       "      <th>1</th>\n",
       "      <th>2</th>\n",
       "      <th>3</th>\n",
       "      <th>4</th>\n",
       "      <th>5</th>\n",
       "      <th>6</th>\n",
       "      <th>7</th>\n",
       "      <th>8</th>\n",
       "    </tr>\n",
       "  </thead>\n",
       "  <tbody>\n",
       "    <tr>\n",
       "      <th>0</th>\n",
       "      <td></td>\n",
       "      <td></td>\n",
       "      <td></td>\n",
       "      <td></td>\n",
       "      <td></td>\n",
       "      <td></td>\n",
       "      <td></td>\n",
       "      <td></td>\n",
       "      <td></td>\n",
       "    </tr>\n",
       "    <tr>\n",
       "      <th>1</th>\n",
       "      <td>SOLDIERPILESCHEDULE</td>\n",
       "      <td></td>\n",
       "      <td></td>\n",
       "      <td></td>\n",
       "      <td></td>\n",
       "      <td></td>\n",
       "      <td></td>\n",
       "      <td></td>\n",
       "      <td></td>\n",
       "    </tr>\n",
       "    <tr>\n",
       "      <th>2</th>\n",
       "      <td>WalISegment</td>\n",
       "      <td>Quantity</td>\n",
       "      <td>PiIeNumber</td>\n",
       "      <td>PileCenterline</td>\n",
       "      <td>TopofSteelPileElevation(Feet)</td>\n",
       "      <td>PileTipElevation(Feet)</td>\n",
       "      <td>Design\"H\"Height(Feet)</td>\n",
       "      <td>Embedment\"D\"Depth(Feet)</td>\n",
       "      <td>SoldierPileSection</td>\n",
       "    </tr>\n",
       "    <tr>\n",
       "      <th>3</th>\n",
       "      <td>A</td>\n",
       "      <td>5</td>\n",
       "      <td>1</td>\n",
       "      <td>1.68'LtSta10+02.00</td>\n",
       "      <td>1452.49</td>\n",
       "      <td>1437.40</td>\n",
       "      <td></td>\n",
       "      <td></td>\n",
       "      <td></td>\n",
       "    </tr>\n",
       "    <tr>\n",
       "      <th>4</th>\n",
       "      <td>A</td>\n",
       "      <td>5</td>\n",
       "      <td>2</td>\n",
       "      <td>1.68'LtSta10+07.67</td>\n",
       "      <td>1452.53</td>\n",
       "      <td>1437.10</td>\n",
       "      <td>6</td>\n",
       "      <td>12</td>\n",
       "      <td>W16x67</td>\n",
       "    </tr>\n",
       "  </tbody>\n",
       "</table>\n",
       "</div>"
      ],
      "text/plain": [
       "                     0         1           2                   3  \\\n",
       "0                                                                  \n",
       "1  SOLDIERPILESCHEDULE                                             \n",
       "2          WalISegment  Quantity  PiIeNumber      PileCenterline   \n",
       "3                    A         5           1  1.68'LtSta10+02.00   \n",
       "4                    A         5           2  1.68'LtSta10+07.67   \n",
       "\n",
       "                               4                       5  \\\n",
       "0                                                          \n",
       "1                                                          \n",
       "2  TopofSteelPileElevation(Feet)  PileTipElevation(Feet)   \n",
       "3                        1452.49                 1437.40   \n",
       "4                        1452.53                 1437.10   \n",
       "\n",
       "                       6                        7                   8  \n",
       "0                                                                      \n",
       "1                                                                      \n",
       "2  Design\"H\"Height(Feet)  Embedment\"D\"Depth(Feet)  SoldierPileSection  \n",
       "3                                                                      \n",
       "4                      6                       12              W16x67  "
      ]
     },
     "execution_count": 34,
     "metadata": {},
     "output_type": "execute_result"
    }
   ],
   "source": [
    "# pandas dataframe\n",
    "table_df_raw = tables[0].df\n",
    "table_df_raw.head()"
   ]
  },
  {
   "cell_type": "code",
   "execution_count": 59,
   "metadata": {},
   "outputs": [
    {
     "data": {
      "text/html": [
       "<div>\n",
       "<style scoped>\n",
       "    .dataframe tbody tr th:only-of-type {\n",
       "        vertical-align: middle;\n",
       "    }\n",
       "\n",
       "    .dataframe tbody tr th {\n",
       "        vertical-align: top;\n",
       "    }\n",
       "\n",
       "    .dataframe thead th {\n",
       "        text-align: right;\n",
       "    }\n",
       "</style>\n",
       "<table border=\"1\" class=\"dataframe\">\n",
       "  <thead>\n",
       "    <tr style=\"text-align: right;\">\n",
       "      <th>2</th>\n",
       "      <th>WalISegment</th>\n",
       "      <th>Quantity</th>\n",
       "      <th>PileNumber</th>\n",
       "      <th>PileCenterline</th>\n",
       "      <th>TopofSteelPileElevation(Feet)</th>\n",
       "      <th>PileTipElevation(Feet)</th>\n",
       "      <th>Design\"H\"Height(Feet)</th>\n",
       "      <th>Embedment\"D\"Depth(Feet)</th>\n",
       "      <th>SoldierPileSection</th>\n",
       "    </tr>\n",
       "  </thead>\n",
       "  <tbody>\n",
       "    <tr>\n",
       "      <th>0</th>\n",
       "      <td>A</td>\n",
       "      <td>5</td>\n",
       "      <td>1</td>\n",
       "      <td>1.68'LtSta10+02.00</td>\n",
       "      <td>1452.49</td>\n",
       "      <td>1437.40</td>\n",
       "      <td></td>\n",
       "      <td></td>\n",
       "      <td></td>\n",
       "    </tr>\n",
       "    <tr>\n",
       "      <th>1</th>\n",
       "      <td>A</td>\n",
       "      <td>5</td>\n",
       "      <td>2</td>\n",
       "      <td>1.68'LtSta10+07.67</td>\n",
       "      <td>1452.53</td>\n",
       "      <td>1437.10</td>\n",
       "      <td>6</td>\n",
       "      <td>12</td>\n",
       "      <td>W16x67</td>\n",
       "    </tr>\n",
       "    <tr>\n",
       "      <th>2</th>\n",
       "      <td>A</td>\n",
       "      <td>5</td>\n",
       "      <td>3</td>\n",
       "      <td>1.68'LtSta10+14.67</td>\n",
       "      <td>1452.68</td>\n",
       "      <td>1436.82</td>\n",
       "      <td>6</td>\n",
       "      <td>12</td>\n",
       "      <td>W16x67</td>\n",
       "    </tr>\n",
       "    <tr>\n",
       "      <th>3</th>\n",
       "      <td>A</td>\n",
       "      <td>5</td>\n",
       "      <td>4</td>\n",
       "      <td>1.68'LtSta10+21.67</td>\n",
       "      <td>1452.83</td>\n",
       "      <td>1436.54</td>\n",
       "      <td></td>\n",
       "      <td></td>\n",
       "      <td></td>\n",
       "    </tr>\n",
       "    <tr>\n",
       "      <th>4</th>\n",
       "      <td>A</td>\n",
       "      <td>5</td>\n",
       "      <td>5</td>\n",
       "      <td>1.68'LtSta10+28.67</td>\n",
       "      <td>1452.93</td>\n",
       "      <td>1436.26</td>\n",
       "      <td></td>\n",
       "      <td></td>\n",
       "      <td></td>\n",
       "    </tr>\n",
       "  </tbody>\n",
       "</table>\n",
       "</div>"
      ],
      "text/plain": [
       "2 WalISegment  Quantity  PileNumber      PileCenterline  \\\n",
       "0           A         5           1  1.68'LtSta10+02.00   \n",
       "1           A         5           2  1.68'LtSta10+07.67   \n",
       "2           A         5           3  1.68'LtSta10+14.67   \n",
       "3           A         5           4  1.68'LtSta10+21.67   \n",
       "4           A         5           5  1.68'LtSta10+28.67   \n",
       "\n",
       "2  TopofSteelPileElevation(Feet)  PileTipElevation(Feet)  \\\n",
       "0                        1452.49                 1437.40   \n",
       "1                        1452.53                 1437.10   \n",
       "2                        1452.68                 1436.82   \n",
       "3                        1452.83                 1436.54   \n",
       "4                        1452.93                 1436.26   \n",
       "\n",
       "2 Design\"H\"Height(Feet) Embedment\"D\"Depth(Feet) SoldierPileSection  \n",
       "0                                                                   \n",
       "1                     6                      12             W16x67  \n",
       "2                     6                      12             W16x67  \n",
       "3                                                                   \n",
       "4                                                                   "
      ]
     },
     "execution_count": 59,
     "metadata": {},
     "output_type": "execute_result"
    }
   ],
   "source": [
    "# data cleaning\n",
    "\n",
    "# change headers and remove unnecessary top rows\n",
    "table = table_df_raw\n",
    "header_row = 2\n",
    "table.columns = table.iloc[header_row]\n",
    "table = table.drop([0, 1, 2])\n",
    "table = table.reset_index(drop=True)\n",
    "\n",
    "# convert to integers\n",
    "table['Quantity'] = table['Quantity'].astype(int)\n",
    "table.rename(columns={'PiIeNumber':'PileNumber'}, inplace=True) # camelot thought l was I\n",
    "table['PileNumber'] = table['PileNumber'].astype(int)\n",
    "\n",
    "# replace commas with decimals\n",
    "table['TopofSteelPileElevation(Feet)'] = [i.replace(',', '.') for i in table['TopofSteelPileElevation(Feet)']]\n",
    "table['PileTipElevation(Feet)'] = [i.replace(',', '.') for i in table['PileTipElevation(Feet)']]\n",
    "\n",
    "# convert to float\n",
    "table[['TopofSteelPileElevation(Feet)', 'PileTipElevation(Feet)']] = table[['TopofSteelPileElevation(Feet)', 'PileTipElevation(Feet)']].astype(float)\n",
    "table.head()\n",
    "\n",
    "# probably faster to fill H and D cells in excel, but could also do that here"
   ]
  },
  {
   "cell_type": "code",
   "execution_count": 62,
   "metadata": {},
   "outputs": [
    {
     "data": {
      "text/plain": [
       "numpy.float64"
      ]
     },
     "execution_count": 62,
     "metadata": {},
     "output_type": "execute_result"
    }
   ],
   "source": [
    "type(table['PileTipElevation(Feet)'][3])"
   ]
  },
  {
   "cell_type": "code",
   "execution_count": 65,
   "metadata": {},
   "outputs": [],
   "source": [
    "# save files\n",
    "\n",
    "# choose folder\n",
    "save_path = filedialog.asksaveasfilename(initialdir = file_path, filetypes=((\"Excel files\", \"*.xlsx\"), \n",
    "                                                                            (\"All files\", \"*.*\") ))\n",
    "table.to_excel(save_path+'.xlsx', float_format='%.2f')"
   ]
  }
 ],
 "metadata": {
  "kernelspec": {
   "display_name": "pdf_edit",
   "language": "python",
   "name": "pdf_edit"
  },
  "language_info": {
   "codemirror_mode": {
    "name": "ipython",
    "version": 3
   },
   "file_extension": ".py",
   "mimetype": "text/x-python",
   "name": "python",
   "nbconvert_exporter": "python",
   "pygments_lexer": "ipython3",
   "version": "3.7.8"
  }
 },
 "nbformat": 4,
 "nbformat_minor": 4
}
