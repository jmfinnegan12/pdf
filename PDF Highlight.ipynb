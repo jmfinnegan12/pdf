{
 "cells": [
  {
   "cell_type": "code",
   "execution_count": 1,
   "metadata": {},
   "outputs": [],
   "source": [
    "import fitz\n",
    "import tkinter as tk\n",
    "from tkinter import filedialog\n",
    "import pandas as pd"
   ]
  },
  {
   "cell_type": "markdown",
   "metadata": {},
   "source": [
    "________________________________________________________"
   ]
  },
  {
   "cell_type": "markdown",
   "metadata": {},
   "source": [
    "# Functions"
   ]
  },
  {
   "cell_type": "code",
   "execution_count": 2,
   "metadata": {},
   "outputs": [],
   "source": [
    "def text_search(pier_list):\n",
    "    '''function that returns a list of all locations of text to be highlighted\n",
    "        \n",
    "        input: list of strings with the exact label of each pier\n",
    "        \n",
    "        output: list of rectangle locations on pdf to highlight'''\n",
    "    \n",
    "    text_instances = []\n",
    "    \n",
    "    for pier in pier_list:\n",
    "        text_instance = page.searchFor(pier)\n",
    "        if len(text_instance) != 1:\n",
    "            return('error: check spelling of ' + pier)\n",
    "        text_instances.append(text_instance)\n",
    "    \n",
    "    return text_instances"
   ]
  },
  {
   "cell_type": "code",
   "execution_count": 3,
   "metadata": {},
   "outputs": [],
   "source": [
    "def highlight(text_instances, shift_id):\n",
    "    '''function that highlights all locations and saves a new pdf\n",
    "    \n",
    "        inputs: text_instances - list of locations of text\n",
    "                shift_id - shift id for naming pdf\n",
    "                \n",
    "        output: saved pdf with highlights and confirmation message'''\n",
    "    \n",
    "    for inst in text_instances:\n",
    "        highlight = page.addHighlightAnnot(inst)\n",
    "        \n",
    "    doc.save('C:/Users/Jim.Finnegan/OneDrive - Keller/Code/PDF/Bruin/Tracking PDFs/' + shift_id + '.pdf', \n",
    "             garbage=4, deflate=True, clean=True)\n",
    "    \n",
    "    return 'PDF saved'"
   ]
  },
  {
   "cell_type": "markdown",
   "metadata": {},
   "source": [
    "# Inputs"
   ]
  },
  {
   "cell_type": "code",
   "execution_count": 4,
   "metadata": {},
   "outputs": [
    {
     "name": "stdout",
     "output_type": "stream",
     "text": [
      "Date (MM-DD-YY): 10-21-20\n",
      "Shift (day/night): day\n"
     ]
    }
   ],
   "source": [
    "# date and shift --> shift_id\n",
    "date = input('Date (MM-DD-YY): ')\n",
    "shift = ''\n",
    "while shift not in ['day', 'night']:\n",
    "    shift = input(\"Shift (day/night): \")\n",
    "    \n",
    "shift_id = date + '_' + shift\n",
    "\n",
    "# select csv with the shift's completed peir numbers\n",
    "folder = 'C:/Users/Jim.Finnegan/OneDrive - Keller/Code/PDF/Bruin/Tracking CSVs/'\n",
    "file = shift_id + '.csv'\n",
    "csv_path = folder + file\n",
    "\n",
    "# turn csv to list\n",
    "pier_df = pd.read_csv(csv_path)\n",
    "pier_list = list(pier_df['complete'])"
   ]
  },
  {
   "cell_type": "code",
   "execution_count": 5,
   "metadata": {},
   "outputs": [
    {
     "name": "stdout",
     "output_type": "stream",
     "text": [
      "C:/Users/Jim.Finnegan/OneDrive - Keller/Code/PDF/Bruin/Tracking PDFs/blank.pdf\n"
     ]
    }
   ],
   "source": [
    "# select most recent tracking pdf file\n",
    "root = tk.Tk()\n",
    "root.withdraw() # suppress root\n",
    "root.wm_attributes('-topmost', 1) # bring window to the front\n",
    "file_path = filedialog.askopenfilename()\n",
    "\n",
    "doc = fitz.open(file_path)\n",
    "page = doc[0]\n",
    "\n",
    "print(file_path)"
   ]
  },
  {
   "cell_type": "code",
   "execution_count": 6,
   "metadata": {},
   "outputs": [
    {
     "data": {
      "text/plain": [
       "'PDF saved'"
      ]
     },
     "execution_count": 6,
     "metadata": {},
     "output_type": "execute_result"
    }
   ],
   "source": [
    "# highlight and save new pdf\n",
    "highlight(text_search(pier_list), shift_id)"
   ]
  }
 ],
 "metadata": {
  "kernelspec": {
   "display_name": "pdf_edit",
   "language": "python",
   "name": "pdf_edit"
  },
  "language_info": {
   "codemirror_mode": {
    "name": "ipython",
    "version": 3
   },
   "file_extension": ".py",
   "mimetype": "text/x-python",
   "name": "python",
   "nbconvert_exporter": "python",
   "pygments_lexer": "ipython3",
   "version": "3.7.8"
  }
 },
 "nbformat": 4,
 "nbformat_minor": 4
}
