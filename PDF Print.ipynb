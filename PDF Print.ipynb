{
 "cells": [
  {
   "cell_type": "markdown",
   "metadata": {},
   "source": [
    "# PDF Print\n",
    "\n",
    "## Print multiple files from a single PDF"
   ]
  },
  {
   "cell_type": "code",
   "execution_count": 3,
   "metadata": {},
   "outputs": [],
   "source": [
    "from PyPDF2 import PdfFileReader, PdfFileWriter\n",
    "import tkinter as tk\n",
    "from tkinter import filedialog"
   ]
  },
  {
   "cell_type": "code",
   "execution_count": 5,
   "metadata": {},
   "outputs": [
    {
     "name": "stdout",
     "output_type": "stream",
     "text": [
      "C:/Users/Jim.Finnegan/OneDrive - Keller/Code/PDF/Xpress West Drawings.pdf\n"
     ]
    }
   ],
   "source": [
    "# select pdf file\n",
    "root = tk.Tk()\n",
    "root.withdraw() # suppress root\n",
    "root.wm_attributes('-topmost', 1) # bring window to the front\n",
    "file_path = filedialog.askopenfilename()\n",
    "print(file_path)"
   ]
  },
  {
   "cell_type": "code",
   "execution_count": 6,
   "metadata": {},
   "outputs": [
    {
     "name": "stdout",
     "output_type": "stream",
     "text": [
      "[1]\n",
      "[1, 2, 3]\n",
      "[1, 2, 3, 4, 5, 6, 8]\n"
     ]
    }
   ],
   "source": [
    "# function for creating list of page numbers out of input\n",
    "def create_page_list(pgs):\n",
    "    result = []\n",
    "    x = pgs.replace(' ', '')\n",
    "    for part in x.split(','):\n",
    "        if '-' in part:\n",
    "            a, b = part.split('-')\n",
    "            a, b = int(a), int(b)\n",
    "            result.extend(range(a, b + 1))\n",
    "        else:\n",
    "            a = int(part)\n",
    "            result.append(a)\n",
    "    return result\n",
    "\n",
    "test1 = create_page_list('1')\n",
    "test2 = create_page_list('1-3')\n",
    "test3 = create_page_list('1, 2-6, 8')\n",
    "\n",
    "print(test1)\n",
    "print(test2)\n",
    "print(test3)"
   ]
  },
  {
   "cell_type": "code",
   "execution_count": 10,
   "metadata": {},
   "outputs": [
    {
     "name": "stdout",
     "output_type": "stream",
     "text": [
      "C:/Users/Jim.Finnegan/OneDrive - Keller/Code/PDF/Test Print\n",
      "File name: test1\n",
      "Page number(s): 1\n",
      "Finished? [y] / n n\n",
      "File name: test2\n",
      "Page number(s): 2-3\n",
      "Finished? [y] / n n\n",
      "File name: test3\n",
      "Page number(s): 5-6, 8, 12-15\n",
      "Finished? [y] / n \n"
     ]
    },
    {
     "ename": "PdfReadError",
     "evalue": "Unsupported PNG filter 3",
     "output_type": "error",
     "traceback": [
      "\u001b[1;31m---------------------------------------------------------------------------\u001b[0m",
      "\u001b[1;31mPdfReadError\u001b[0m                              Traceback (most recent call last)",
      "\u001b[1;32m<ipython-input-10-989058b6d684>\u001b[0m in \u001b[0;36m<module>\u001b[1;34m\u001b[0m\n\u001b[0;32m     22\u001b[0m \u001b[1;33m\u001b[0m\u001b[0m\n\u001b[0;32m     23\u001b[0m \u001b[1;31m# print pages into their own files by looping over file_dict\u001b[0m\u001b[1;33m\u001b[0m\u001b[1;33m\u001b[0m\u001b[1;33m\u001b[0m\u001b[0m\n\u001b[1;32m---> 24\u001b[1;33m \u001b[0moriginal_pdf\u001b[0m \u001b[1;33m=\u001b[0m \u001b[0mPdfFileReader\u001b[0m\u001b[1;33m(\u001b[0m\u001b[0mfile_path\u001b[0m\u001b[1;33m)\u001b[0m\u001b[1;33m\u001b[0m\u001b[1;33m\u001b[0m\u001b[0m\n\u001b[0m\u001b[0;32m     25\u001b[0m \u001b[1;33m\u001b[0m\u001b[0m\n\u001b[0;32m     26\u001b[0m \u001b[1;31m# for file, pages in file_dict.items():\u001b[0m\u001b[1;33m\u001b[0m\u001b[1;33m\u001b[0m\u001b[1;33m\u001b[0m\u001b[0m\n",
      "\u001b[1;32m~\\Anaconda3\\envs\\pdf_edit\\lib\\site-packages\\PyPDF2\\pdf.py\u001b[0m in \u001b[0;36m__init__\u001b[1;34m(self, stream, strict, warndest, overwriteWarnings)\u001b[0m\n\u001b[0;32m   1082\u001b[0m             \u001b[0mstream\u001b[0m \u001b[1;33m=\u001b[0m \u001b[0mBytesIO\u001b[0m\u001b[1;33m(\u001b[0m\u001b[0mb_\u001b[0m\u001b[1;33m(\u001b[0m\u001b[0mfileobj\u001b[0m\u001b[1;33m.\u001b[0m\u001b[0mread\u001b[0m\u001b[1;33m(\u001b[0m\u001b[1;33m)\u001b[0m\u001b[1;33m)\u001b[0m\u001b[1;33m)\u001b[0m\u001b[1;33m\u001b[0m\u001b[1;33m\u001b[0m\u001b[0m\n\u001b[0;32m   1083\u001b[0m             \u001b[0mfileobj\u001b[0m\u001b[1;33m.\u001b[0m\u001b[0mclose\u001b[0m\u001b[1;33m(\u001b[0m\u001b[1;33m)\u001b[0m\u001b[1;33m\u001b[0m\u001b[1;33m\u001b[0m\u001b[0m\n\u001b[1;32m-> 1084\u001b[1;33m         \u001b[0mself\u001b[0m\u001b[1;33m.\u001b[0m\u001b[0mread\u001b[0m\u001b[1;33m(\u001b[0m\u001b[0mstream\u001b[0m\u001b[1;33m)\u001b[0m\u001b[1;33m\u001b[0m\u001b[1;33m\u001b[0m\u001b[0m\n\u001b[0m\u001b[0;32m   1085\u001b[0m         \u001b[0mself\u001b[0m\u001b[1;33m.\u001b[0m\u001b[0mstream\u001b[0m \u001b[1;33m=\u001b[0m \u001b[0mstream\u001b[0m\u001b[1;33m\u001b[0m\u001b[1;33m\u001b[0m\u001b[0m\n\u001b[0;32m   1086\u001b[0m \u001b[1;33m\u001b[0m\u001b[0m\n",
      "\u001b[1;32m~\\Anaconda3\\envs\\pdf_edit\\lib\\site-packages\\PyPDF2\\pdf.py\u001b[0m in \u001b[0;36mread\u001b[1;34m(self, stream)\u001b[0m\n\u001b[0;32m   1805\u001b[0m                 \u001b[1;32massert\u001b[0m \u001b[0mxrefstream\u001b[0m\u001b[1;33m[\u001b[0m\u001b[1;34m\"/Type\"\u001b[0m\u001b[1;33m]\u001b[0m \u001b[1;33m==\u001b[0m \u001b[1;34m\"/XRef\"\u001b[0m\u001b[1;33m\u001b[0m\u001b[1;33m\u001b[0m\u001b[0m\n\u001b[0;32m   1806\u001b[0m                 \u001b[0mself\u001b[0m\u001b[1;33m.\u001b[0m\u001b[0mcacheIndirectObject\u001b[0m\u001b[1;33m(\u001b[0m\u001b[0mgeneration\u001b[0m\u001b[1;33m,\u001b[0m \u001b[0midnum\u001b[0m\u001b[1;33m,\u001b[0m \u001b[0mxrefstream\u001b[0m\u001b[1;33m)\u001b[0m\u001b[1;33m\u001b[0m\u001b[1;33m\u001b[0m\u001b[0m\n\u001b[1;32m-> 1807\u001b[1;33m                 \u001b[0mstreamData\u001b[0m \u001b[1;33m=\u001b[0m \u001b[0mBytesIO\u001b[0m\u001b[1;33m(\u001b[0m\u001b[0mb_\u001b[0m\u001b[1;33m(\u001b[0m\u001b[0mxrefstream\u001b[0m\u001b[1;33m.\u001b[0m\u001b[0mgetData\u001b[0m\u001b[1;33m(\u001b[0m\u001b[1;33m)\u001b[0m\u001b[1;33m)\u001b[0m\u001b[1;33m)\u001b[0m\u001b[1;33m\u001b[0m\u001b[1;33m\u001b[0m\u001b[0m\n\u001b[0m\u001b[0;32m   1808\u001b[0m                 \u001b[1;31m# Index pairs specify the subsections in the dictionary. If\u001b[0m\u001b[1;33m\u001b[0m\u001b[1;33m\u001b[0m\u001b[1;33m\u001b[0m\u001b[0m\n\u001b[0;32m   1809\u001b[0m                 \u001b[1;31m# none create one subsection that spans everything.\u001b[0m\u001b[1;33m\u001b[0m\u001b[1;33m\u001b[0m\u001b[1;33m\u001b[0m\u001b[0m\n",
      "\u001b[1;32m~\\Anaconda3\\envs\\pdf_edit\\lib\\site-packages\\PyPDF2\\generic.py\u001b[0m in \u001b[0;36mgetData\u001b[1;34m(self)\u001b[0m\n\u001b[0;32m    839\u001b[0m             \u001b[0mdecoded\u001b[0m \u001b[1;33m=\u001b[0m \u001b[0mDecodedStreamObject\u001b[0m\u001b[1;33m(\u001b[0m\u001b[1;33m)\u001b[0m\u001b[1;33m\u001b[0m\u001b[1;33m\u001b[0m\u001b[0m\n\u001b[0;32m    840\u001b[0m \u001b[1;33m\u001b[0m\u001b[0m\n\u001b[1;32m--> 841\u001b[1;33m             \u001b[0mdecoded\u001b[0m\u001b[1;33m.\u001b[0m\u001b[0m_data\u001b[0m \u001b[1;33m=\u001b[0m \u001b[0mfilters\u001b[0m\u001b[1;33m.\u001b[0m\u001b[0mdecodeStreamData\u001b[0m\u001b[1;33m(\u001b[0m\u001b[0mself\u001b[0m\u001b[1;33m)\u001b[0m\u001b[1;33m\u001b[0m\u001b[1;33m\u001b[0m\u001b[0m\n\u001b[0m\u001b[0;32m    842\u001b[0m             \u001b[1;32mfor\u001b[0m \u001b[0mkey\u001b[0m\u001b[1;33m,\u001b[0m \u001b[0mvalue\u001b[0m \u001b[1;32min\u001b[0m \u001b[0mlist\u001b[0m\u001b[1;33m(\u001b[0m\u001b[0mself\u001b[0m\u001b[1;33m.\u001b[0m\u001b[0mitems\u001b[0m\u001b[1;33m(\u001b[0m\u001b[1;33m)\u001b[0m\u001b[1;33m)\u001b[0m\u001b[1;33m:\u001b[0m\u001b[1;33m\u001b[0m\u001b[1;33m\u001b[0m\u001b[0m\n\u001b[0;32m    843\u001b[0m                 \u001b[1;32mif\u001b[0m \u001b[1;32mnot\u001b[0m \u001b[0mkey\u001b[0m \u001b[1;32min\u001b[0m \u001b[1;33m(\u001b[0m\u001b[1;34m\"/Length\"\u001b[0m\u001b[1;33m,\u001b[0m \u001b[1;34m\"/Filter\"\u001b[0m\u001b[1;33m,\u001b[0m \u001b[1;34m\"/DecodeParms\"\u001b[0m\u001b[1;33m)\u001b[0m\u001b[1;33m:\u001b[0m\u001b[1;33m\u001b[0m\u001b[1;33m\u001b[0m\u001b[0m\n",
      "\u001b[1;32m~\\Anaconda3\\envs\\pdf_edit\\lib\\site-packages\\PyPDF2\\filters.py\u001b[0m in \u001b[0;36mdecodeStreamData\u001b[1;34m(stream)\u001b[0m\n\u001b[0;32m    344\u001b[0m         \u001b[1;32mfor\u001b[0m \u001b[0mfilterType\u001b[0m \u001b[1;32min\u001b[0m \u001b[0mfilters\u001b[0m\u001b[1;33m:\u001b[0m\u001b[1;33m\u001b[0m\u001b[1;33m\u001b[0m\u001b[0m\n\u001b[0;32m    345\u001b[0m             \u001b[1;32mif\u001b[0m \u001b[0mfilterType\u001b[0m \u001b[1;33m==\u001b[0m \u001b[1;34m\"/FlateDecode\"\u001b[0m \u001b[1;32mor\u001b[0m \u001b[0mfilterType\u001b[0m \u001b[1;33m==\u001b[0m \u001b[1;34m\"/Fl\"\u001b[0m\u001b[1;33m:\u001b[0m\u001b[1;33m\u001b[0m\u001b[1;33m\u001b[0m\u001b[0m\n\u001b[1;32m--> 346\u001b[1;33m                 \u001b[0mdata\u001b[0m \u001b[1;33m=\u001b[0m \u001b[0mFlateDecode\u001b[0m\u001b[1;33m.\u001b[0m\u001b[0mdecode\u001b[0m\u001b[1;33m(\u001b[0m\u001b[0mdata\u001b[0m\u001b[1;33m,\u001b[0m \u001b[0mstream\u001b[0m\u001b[1;33m.\u001b[0m\u001b[0mget\u001b[0m\u001b[1;33m(\u001b[0m\u001b[1;34m\"/DecodeParms\"\u001b[0m\u001b[1;33m)\u001b[0m\u001b[1;33m)\u001b[0m\u001b[1;33m\u001b[0m\u001b[1;33m\u001b[0m\u001b[0m\n\u001b[0m\u001b[0;32m    347\u001b[0m             \u001b[1;32melif\u001b[0m \u001b[0mfilterType\u001b[0m \u001b[1;33m==\u001b[0m \u001b[1;34m\"/ASCIIHexDecode\"\u001b[0m \u001b[1;32mor\u001b[0m \u001b[0mfilterType\u001b[0m \u001b[1;33m==\u001b[0m \u001b[1;34m\"/AHx\"\u001b[0m\u001b[1;33m:\u001b[0m\u001b[1;33m\u001b[0m\u001b[1;33m\u001b[0m\u001b[0m\n\u001b[0;32m    348\u001b[0m                 \u001b[0mdata\u001b[0m \u001b[1;33m=\u001b[0m \u001b[0mASCIIHexDecode\u001b[0m\u001b[1;33m.\u001b[0m\u001b[0mdecode\u001b[0m\u001b[1;33m(\u001b[0m\u001b[0mdata\u001b[0m\u001b[1;33m)\u001b[0m\u001b[1;33m\u001b[0m\u001b[1;33m\u001b[0m\u001b[0m\n",
      "\u001b[1;32m~\\Anaconda3\\envs\\pdf_edit\\lib\\site-packages\\PyPDF2\\filters.py\u001b[0m in \u001b[0;36mdecode\u001b[1;34m(data, decodeParms)\u001b[0m\n\u001b[0;32m    140\u001b[0m                     \u001b[1;32melse\u001b[0m\u001b[1;33m:\u001b[0m\u001b[1;33m\u001b[0m\u001b[1;33m\u001b[0m\u001b[0m\n\u001b[0;32m    141\u001b[0m                         \u001b[1;31m# unsupported PNG filter\u001b[0m\u001b[1;33m\u001b[0m\u001b[1;33m\u001b[0m\u001b[1;33m\u001b[0m\u001b[0m\n\u001b[1;32m--> 142\u001b[1;33m                         \u001b[1;32mraise\u001b[0m \u001b[0mPdfReadError\u001b[0m\u001b[1;33m(\u001b[0m\u001b[1;34m\"Unsupported PNG filter %r\"\u001b[0m \u001b[1;33m%\u001b[0m \u001b[0mfilterByte\u001b[0m\u001b[1;33m)\u001b[0m\u001b[1;33m\u001b[0m\u001b[1;33m\u001b[0m\u001b[0m\n\u001b[0m\u001b[0;32m    143\u001b[0m                     \u001b[0mprev_rowdata\u001b[0m \u001b[1;33m=\u001b[0m \u001b[0mrowdata\u001b[0m\u001b[1;33m\u001b[0m\u001b[1;33m\u001b[0m\u001b[0m\n\u001b[0;32m    144\u001b[0m                     \u001b[0moutput\u001b[0m\u001b[1;33m.\u001b[0m\u001b[0mwrite\u001b[0m\u001b[1;33m(\u001b[0m\u001b[1;34m''\u001b[0m\u001b[1;33m.\u001b[0m\u001b[0mjoin\u001b[0m\u001b[1;33m(\u001b[0m\u001b[1;33m[\u001b[0m\u001b[0mchr\u001b[0m\u001b[1;33m(\u001b[0m\u001b[0mx\u001b[0m\u001b[1;33m)\u001b[0m \u001b[1;32mfor\u001b[0m \u001b[0mx\u001b[0m \u001b[1;32min\u001b[0m \u001b[0mrowdata\u001b[0m\u001b[1;33m[\u001b[0m\u001b[1;36m1\u001b[0m\u001b[1;33m:\u001b[0m\u001b[1;33m]\u001b[0m\u001b[1;33m]\u001b[0m\u001b[1;33m)\u001b[0m\u001b[1;33m)\u001b[0m\u001b[1;33m\u001b[0m\u001b[1;33m\u001b[0m\u001b[0m\n",
      "\u001b[1;31mPdfReadError\u001b[0m: Unsupported PNG filter 3"
     ]
    }
   ],
   "source": [
    "# select pages to print and assign file names\n",
    "\n",
    "# choose output folder\n",
    "save_folder = filedialog.askdirectory()\n",
    "print(save_folder)\n",
    "\n",
    "# name file and select pages\n",
    "# file name is key and page numbers of original pdf are values\n",
    "done = False\n",
    "file_dict = {}\n",
    "\n",
    "while done == False:\n",
    "    name = input('File name: ')\n",
    "    pages = input('Page number(s): ')\n",
    "    pages_list = create_page_list(pages)\n",
    "    file_dict[name] = pages_list\n",
    "    temp = input('Finished? [y] / n ')\n",
    "    if temp == '' or temp.lower() == 'y':\n",
    "        done = True\n",
    "    elif temp.lower() == 'n':\n",
    "        done = False\n",
    "\n",
    "# print pages into their own files by looping over file_dict\n",
    "original_pdf = PdfFileReader(file_path)\n",
    "\n",
    "# for file, pages in file_dict.items():\n",
    "#     for i in pages:\n",
    "#         output = PdfFileWriter()\n",
    "        \n"
   ]
  },
  {
   "cell_type": "markdown",
   "metadata": {},
   "source": [
    "need to figure out a way to avoid PNG filter error"
   ]
  }
 ],
 "metadata": {
  "kernelspec": {
   "display_name": "pdf_edit",
   "language": "python",
   "name": "pdf_edit"
  },
  "language_info": {
   "codemirror_mode": {
    "name": "ipython",
    "version": 3
   },
   "file_extension": ".py",
   "mimetype": "text/x-python",
   "name": "python",
   "nbconvert_exporter": "python",
   "pygments_lexer": "ipython3",
   "version": "3.7.8"
  }
 },
 "nbformat": 4,
 "nbformat_minor": 4
}
